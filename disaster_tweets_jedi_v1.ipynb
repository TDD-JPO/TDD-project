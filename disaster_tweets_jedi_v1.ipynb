{
  "nbformat": 4,
  "nbformat_minor": 0,
  "metadata": {
    "colab": {
      "name": "disaster-tweets-jedi-v1.ipynb",
      "provenance": [],
      "collapsed_sections": [],
      "include_colab_link": true
    },
    "kernelspec": {
      "name": "python3",
      "display_name": "Python 3"
    }
  },
  "cells": [
    {
      "cell_type": "markdown",
      "metadata": {
        "id": "view-in-github",
        "colab_type": "text"
      },
      "source": [
        "<a href=\"https://colab.research.google.com/github/TTD-JPO/TDD-project/blob/main/disaster_tweets_jedi_v1.ipynb\" target=\"_parent\"><img src=\"https://colab.research.google.com/assets/colab-badge.svg\" alt=\"Open In Colab\"/></a>"
      ]
    },
    {
      "cell_type": "code",
      "metadata": {
        "id": "gkE3N2AuU6Ex",
        "outputId": "0a37ea56-bbaf-44e4-b066-6ee67c138e01",
        "colab": {
          "base_uri": "https://localhost:8080/",
          "height": 34
        }
      },
      "source": [
        "from google.colab import drive\n",
        "drive.mount('/content/drive')"
      ],
      "execution_count": 1,
      "outputs": [
        {
          "output_type": "stream",
          "text": [
            "Mounted at /content/drive\n"
          ],
          "name": "stdout"
        }
      ]
    },
    {
      "cell_type": "code",
      "metadata": {
        "id": "62jrF4rfJL0g"
      },
      "source": [
        "import pandas as pd\n",
        "import numpy as np\n",
        "import matplotlib.pyplot as plt\n",
        "import seaborn as sns\n",
        "\n",
        "from datetime import timedelta, time"
      ],
      "execution_count": 107,
      "outputs": []
    },
    {
      "cell_type": "code",
      "metadata": {
        "id": "i2Nfud6cMzXq"
      },
      "source": [
        "from sklearn.pipeline import make_pipeline\n",
        "\n",
        "from sklearn.model_selection import cross_val_score\n",
        "from sklearn.linear_model import LogisticRegression\n",
        "from sklearn.model_selection import train_test_split\n",
        "from sklearn.metrics import accuracy_score, r2_score, plot_confusion_matrix\n",
        "\n",
        "from sklearn.naive_bayes import CategoricalNB, MultinomialNB, BernoulliNB\n",
        "from sklearn.feature_extraction.text import CountVectorizer, TfidfVectorizer\n",
        "\n",
        "#cv = CountVectorizer()\n",
        "#bow_cv = cv.fit_transform(df[\"_lemmatized\"])"
      ],
      "execution_count": 108,
      "outputs": []
    },
    {
      "cell_type": "code",
      "metadata": {
        "id": "SZ84NmUz_Kzt",
        "outputId": "acc6805a-4548-4bca-d5c0-a54255193914",
        "colab": {
          "base_uri": "https://localhost:8080/",
          "height": 84
        }
      },
      "source": [
        "import re\n",
        "\n",
        "import nltk\n",
        "nltk.download('stopwords')\n",
        "from nltk.corpus import stopwords\n",
        "from nltk.stem import WordNetLemmatizer\n",
        "nltk.download('wordnet')\n",
        "lemmatizer = WordNetLemmatizer()\n",
        "\n",
        "\n",
        "def clean_text(text):\n",
        "  # get rid of all unwanted punctuation and digits\n",
        "  text = text.replace(\"´\", \"'\")\n",
        "\n",
        "  digi_punct = \"[^a-zA-Z' ]\"\n",
        "  text = re.sub(digi_punct, \" \", text)\n",
        "  text = \" \".join(text.split())\n",
        "  text = text.lower()\n",
        "\n",
        "  return text\n",
        "\n",
        "def my_df_text_mining(df, col):\n",
        "  lemmatizer = WordNetLemmatizer()\n",
        "  my_stopwords = stopwords.words(\"english\")\n",
        "  \n",
        "  df[\"_no_stopwords\"] = df[col].apply(             lambda texxt: \" \".join([word for word in clean_text(texxt).split() if word not in my_stopwords]))\n",
        "  df[\"_lemmatized\"]   = df[\"_no_stopwords\"].apply( lambda texxt: \" \".join([lemmatizer.lemmatize(word) for word in texxt.split()]) )\n",
        "\n",
        "  return df.drop([\"_no_stopwords\"], axis=1)"
      ],
      "execution_count": 94,
      "outputs": [
        {
          "output_type": "stream",
          "text": [
            "[nltk_data] Downloading package stopwords to /root/nltk_data...\n",
            "[nltk_data]   Unzipping corpora/stopwords.zip.\n",
            "[nltk_data] Downloading package wordnet to /root/nltk_data...\n",
            "[nltk_data]   Unzipping corpora/wordnet.zip.\n"
          ],
          "name": "stdout"
        }
      ]
    },
    {
      "cell_type": "code",
      "metadata": {
        "id": "jAUe5gnhWgAG"
      },
      "source": [
        "disaster_tweets = pd.read_csv('/content/drive/My Drive/disaster_tweets.csv', encoding='latin-1')"
      ],
      "execution_count": 2,
      "outputs": []
    },
    {
      "cell_type": "code",
      "metadata": {
        "id": "QZqYCDfCwx93",
        "outputId": "7db88f00-db57-4852-de9c-e6fc1e4a69c1",
        "colab": {
          "base_uri": "https://localhost:8080/",
          "height": 50
        }
      },
      "source": [
        "print( \"absolute number of disaster indicated messages:\", disaster_tweets.target.sum() )\n",
        "print( f\"relative number of disaster indicated messages: {disaster_tweets.target.sum() / disaster_tweets.shape[0] :0.3f}\" )"
      ],
      "execution_count": 67,
      "outputs": [
        {
          "output_type": "stream",
          "text": [
            "absolute number of disaster indicated messages: 3271\n",
            "relative number of disaster indicated messages: 0.430\n"
          ],
          "name": "stdout"
        }
      ]
    },
    {
      "cell_type": "code",
      "metadata": {
        "id": "F6uPwdhszFtK"
      },
      "source": [
        "keys      = list(disaster_tweets.keyword.unique() )\n",
        "locations = list(disaster_tweets.location.unique() )"
      ],
      "execution_count": 14,
      "outputs": []
    },
    {
      "cell_type": "code",
      "metadata": {
        "id": "eOgyt3aj5EZV",
        "outputId": "5ec84c56-7972-47d1-f0a4-118486d30b4a",
        "colab": {
          "base_uri": "https://localhost:8080/",
          "height": 53
        }
      },
      "source": [
        "display( f\"relative number of keyword   messages: {disaster_tweets.keyword.nunique()  / disaster_tweets.shape[0] :0.3f}\" )\n",
        "display( f\"relative number of location  messages: {disaster_tweets.location.nunique() / disaster_tweets.shape[0] :0.3f}\" )"
      ],
      "execution_count": 102,
      "outputs": [
        {
          "output_type": "display_data",
          "data": {
            "application/vnd.google.colaboratory.intrinsic+json": {
              "type": "string"
            },
            "text/plain": [
              "'relative number of keyword   messages: 0.029'"
            ]
          },
          "metadata": {
            "tags": []
          }
        },
        {
          "output_type": "display_data",
          "data": {
            "application/vnd.google.colaboratory.intrinsic+json": {
              "type": "string"
            },
            "text/plain": [
              "'relative number of location  messages: 0.439'"
            ]
          },
          "metadata": {
            "tags": []
          }
        }
      ]
    },
    {
      "cell_type": "code",
      "metadata": {
        "id": "N3FC1viZFsoY"
      },
      "source": [
        "### we might do these steps later after having processed the text :)\n",
        "#dt = disaster_tweets.copy()"
      ],
      "execution_count": 87,
      "outputs": []
    },
    {
      "cell_type": "code",
      "metadata": {
        "id": "t8MoY936GoQL"
      },
      "source": [
        "dt = my_df_text_mining(disaster_tweets, 'text')"
      ],
      "execution_count": 95,
      "outputs": []
    },
    {
      "cell_type": "code",
      "metadata": {
        "id": "UWwFaeG5xz63"
      },
      "source": [
        "no_keyword_ = dt[  dt.keyword.isna()]\n",
        "keyword_    = dt[ ~dt.keyword.isna()]"
      ],
      "execution_count": 96,
      "outputs": []
    },
    {
      "cell_type": "code",
      "metadata": {
        "id": "5-W86hUzCnc6"
      },
      "source": [
        "no_location_ = dt[  dt.location.isna()]\n",
        "location_    = dt[ ~dt.location.isna()]"
      ],
      "execution_count": 97,
      "outputs": []
    },
    {
      "cell_type": "code",
      "metadata": {
        "id": "p1kbJHcwFH7I"
      },
      "source": [
        "no_target_ = dt[ dt.target == 0]\n",
        "target_    = dt[ dt.target == 1]"
      ],
      "execution_count": 98,
      "outputs": []
    },
    {
      "cell_type": "code",
      "metadata": {
        "id": "eafYLGmvCvoK",
        "outputId": "378812d6-10e3-4139-d764-7b5dae214c99",
        "colab": {
          "base_uri": "https://localhost:8080/",
          "height": 402
        }
      },
      "source": [
        "location_"
      ],
      "execution_count": 101,
      "outputs": [
        {
          "output_type": "execute_result",
          "data": {
            "text/html": [
              "<div>\n",
              "<style scoped>\n",
              "    .dataframe tbody tr th:only-of-type {\n",
              "        vertical-align: middle;\n",
              "    }\n",
              "\n",
              "    .dataframe tbody tr th {\n",
              "        vertical-align: top;\n",
              "    }\n",
              "\n",
              "    .dataframe thead th {\n",
              "        text-align: right;\n",
              "    }\n",
              "</style>\n",
              "<table border=\"1\" class=\"dataframe\">\n",
              "  <thead>\n",
              "    <tr style=\"text-align: right;\">\n",
              "      <th></th>\n",
              "      <th>id</th>\n",
              "      <th>keyword</th>\n",
              "      <th>location</th>\n",
              "      <th>text</th>\n",
              "      <th>target</th>\n",
              "      <th>_lemmatized</th>\n",
              "    </tr>\n",
              "  </thead>\n",
              "  <tbody>\n",
              "    <tr>\n",
              "      <th>31</th>\n",
              "      <td>48</td>\n",
              "      <td>ablaze</td>\n",
              "      <td>Birmingham</td>\n",
              "      <td>@bbcmtd Wholesale Markets ablaze http://t.co/l...</td>\n",
              "      <td>1</td>\n",
              "      <td>bbcmtd wholesale market ablaze http co lhyxeohy c</td>\n",
              "    </tr>\n",
              "    <tr>\n",
              "      <th>32</th>\n",
              "      <td>49</td>\n",
              "      <td>ablaze</td>\n",
              "      <td>Est. September 2012 - Bristol</td>\n",
              "      <td>We always try to bring the heavy. #metal #RT h...</td>\n",
              "      <td>0</td>\n",
              "      <td>always try bring heavy metal rt http co yao e ...</td>\n",
              "    </tr>\n",
              "    <tr>\n",
              "      <th>33</th>\n",
              "      <td>50</td>\n",
              "      <td>ablaze</td>\n",
              "      <td>AFRICA</td>\n",
              "      <td>#AFRICANBAZE: Breaking news:Nigeria flag set a...</td>\n",
              "      <td>1</td>\n",
              "      <td>africanbaze breaking news nigeria flag set abl...</td>\n",
              "    </tr>\n",
              "    <tr>\n",
              "      <th>34</th>\n",
              "      <td>52</td>\n",
              "      <td>ablaze</td>\n",
              "      <td>Philadelphia, PA</td>\n",
              "      <td>Crying out for more! Set me ablaze</td>\n",
              "      <td>0</td>\n",
              "      <td>cry set ablaze</td>\n",
              "    </tr>\n",
              "    <tr>\n",
              "      <th>35</th>\n",
              "      <td>53</td>\n",
              "      <td>ablaze</td>\n",
              "      <td>London, UK</td>\n",
              "      <td>On plus side LOOK AT THE SKY LAST NIGHT IT WAS...</td>\n",
              "      <td>0</td>\n",
              "      <td>plus side look sky last night ablaze http co q...</td>\n",
              "    </tr>\n",
              "    <tr>\n",
              "      <th>...</th>\n",
              "      <td>...</td>\n",
              "      <td>...</td>\n",
              "      <td>...</td>\n",
              "      <td>...</td>\n",
              "      <td>...</td>\n",
              "      <td>...</td>\n",
              "    </tr>\n",
              "    <tr>\n",
              "      <th>7575</th>\n",
              "      <td>10826</td>\n",
              "      <td>wrecked</td>\n",
              "      <td>TN</td>\n",
              "      <td>On the bright side I wrecked http://t.co/uEa0t...</td>\n",
              "      <td>0</td>\n",
              "      <td>bright side wrecked http co uea txrhys</td>\n",
              "    </tr>\n",
              "    <tr>\n",
              "      <th>7577</th>\n",
              "      <td>10829</td>\n",
              "      <td>wrecked</td>\n",
              "      <td>#NewcastleuponTyne #UK</td>\n",
              "      <td>@widda16 ... He's gone. You can relax. I thoug...</td>\n",
              "      <td>0</td>\n",
              "      <td>widda he's gone relax thought wife wrecked cak...</td>\n",
              "    </tr>\n",
              "    <tr>\n",
              "      <th>7579</th>\n",
              "      <td>10831</td>\n",
              "      <td>wrecked</td>\n",
              "      <td>Vancouver, Canada</td>\n",
              "      <td>Three days off from work and they've pretty mu...</td>\n",
              "      <td>0</td>\n",
              "      <td>three day work they've pretty much wrecked hah...</td>\n",
              "    </tr>\n",
              "    <tr>\n",
              "      <th>7580</th>\n",
              "      <td>10832</td>\n",
              "      <td>wrecked</td>\n",
              "      <td>London</td>\n",
              "      <td>#FX #forex #trading Cramer: Iger's 3 words tha...</td>\n",
              "      <td>0</td>\n",
              "      <td>fx forex trading cramer iger's word wrecked di...</td>\n",
              "    </tr>\n",
              "    <tr>\n",
              "      <th>7581</th>\n",
              "      <td>10833</td>\n",
              "      <td>wrecked</td>\n",
              "      <td>Lincoln</td>\n",
              "      <td>@engineshed Great atmosphere at the British Li...</td>\n",
              "      <td>0</td>\n",
              "      <td>engineshed great atmosphere british lion gig t...</td>\n",
              "    </tr>\n",
              "  </tbody>\n",
              "</table>\n",
              "<p>5080 rows × 6 columns</p>\n",
              "</div>"
            ],
            "text/plain": [
              "         id  keyword  ... target                                        _lemmatized\n",
              "31       48   ablaze  ...      1  bbcmtd wholesale market ablaze http co lhyxeohy c\n",
              "32       49   ablaze  ...      0  always try bring heavy metal rt http co yao e ...\n",
              "33       50   ablaze  ...      1  africanbaze breaking news nigeria flag set abl...\n",
              "34       52   ablaze  ...      0                                     cry set ablaze\n",
              "35       53   ablaze  ...      0  plus side look sky last night ablaze http co q...\n",
              "...     ...      ...  ...    ...                                                ...\n",
              "7575  10826  wrecked  ...      0             bright side wrecked http co uea txrhys\n",
              "7577  10829  wrecked  ...      0  widda he's gone relax thought wife wrecked cak...\n",
              "7579  10831  wrecked  ...      0  three day work they've pretty much wrecked hah...\n",
              "7580  10832  wrecked  ...      0  fx forex trading cramer iger's word wrecked di...\n",
              "7581  10833  wrecked  ...      0  engineshed great atmosphere british lion gig t...\n",
              "\n",
              "[5080 rows x 6 columns]"
            ]
          },
          "metadata": {
            "tags": []
          },
          "execution_count": 101
        }
      ]
    },
    {
      "cell_type": "code",
      "metadata": {
        "id": "xlvakSroNjA1"
      },
      "source": [
        ""
      ],
      "execution_count": null,
      "outputs": []
    },
    {
      "cell_type": "code",
      "metadata": {
        "id": "EYlUXcJTNiwF"
      },
      "source": [
        ""
      ],
      "execution_count": null,
      "outputs": []
    },
    {
      "cell_type": "code",
      "metadata": {
        "id": "enJEN9dXNisk"
      },
      "source": [
        "df    = location_\n",
        "no_df = no_location_"
      ],
      "execution_count": 117,
      "outputs": []
    },
    {
      "cell_type": "code",
      "metadata": {
        "id": "pEI2ebP28czf"
      },
      "source": [
        "tfidf_v = TfidfVectorizer(ngram_range=(1, 2))\n",
        "tfidf_bow = tfidf_v.fit_transform(df[\"_lemmatized\"])   # FIT and transform to learn\n",
        "### ??? wo wird das denn weiterverwendet ???"
      ],
      "execution_count": 118,
      "outputs": []
    },
    {
      "cell_type": "code",
      "metadata": {
        "id": "w8XyRQHUTIJM",
        "outputId": "372c7eaf-a879-4e01-bfdd-c9c8e9336b33",
        "colab": {
          "base_uri": "https://localhost:8080/",
          "height": 50
        }
      },
      "source": [
        "tfidf_v.transform(no_df['_lemmatized'])  # only transformation!!!"
      ],
      "execution_count": 119,
      "outputs": [
        {
          "output_type": "execute_result",
          "data": {
            "text/plain": [
              "<2533x55580 sparse matrix of type '<class 'numpy.float64'>'\n",
              "\twith 28359 stored elements in Compressed Sparse Row format>"
            ]
          },
          "metadata": {
            "tags": []
          },
          "execution_count": 119
        }
      ]
    },
    {
      "cell_type": "code",
      "metadata": {
        "id": "AXbhHIURMtcH"
      },
      "source": [
        "X_train, X_test,\\\n",
        "y_train, y_test =\\\n",
        " train_test_split(df[\"_lemmatized\"],\n",
        "                  df[\"target\"],\n",
        "                  test_size=0.2,\n",
        "                  random_state=314159,\n",
        "                  stratify=df[\"target\"])"
      ],
      "execution_count": 120,
      "outputs": []
    },
    {
      "cell_type": "code",
      "metadata": {
        "id": "VrlKAPzNxz0F",
        "outputId": "49bedff7-083c-4c61-a2fd-251387e0f1b2",
        "colab": {
          "base_uri": "https://localhost:8080/",
          "height": 312
        }
      },
      "source": [
        "#### naive bayes \n",
        "pipeMNB = make_pipeline(TfidfVectorizer(ngram_range=(1, 2)), MultinomialNB())\n",
        "\n",
        "display( cross_val_score(pipeMNB, X_train, y_train).mean() )\n",
        "\n",
        "pipeMNB.fit(X_train, y_train)\n",
        "\n",
        "plot_confusion_matrix(pipeMNB, X_test, y_test, values_format=\"0.3f\", normalize='true', cmap=\"RdYlGn\")\n",
        "plt.title(f\"best accuracy: { accuracy_score(y_test, pipeMNB.predict(X_test)):0.3f}\")\n",
        "plt.show()"
      ],
      "execution_count": 121,
      "outputs": [
        {
          "output_type": "display_data",
          "data": {
            "text/plain": [
              "0.7851907730899969"
            ]
          },
          "metadata": {
            "tags": []
          }
        },
        {
          "output_type": "display_data",
          "data": {
            "image/png": "[encoded data removed]",
            "text/plain": [
              "<Figure size 432x288 with 2 Axes>"
            ]
          },
          "metadata": {
            "tags": [],
            "needs_background": "light"
          }
        }
      ]
    },
    {
      "cell_type": "code",
      "metadata": {
        "id": "19DTeMZN3z2D"
      },
      "source": [
        ""
      ],
      "execution_count": null,
      "outputs": []
    },
    {
      "cell_type": "code",
      "metadata": {
        "id": "jlNxoCyM3zpS"
      },
      "source": [
        ""
      ],
      "execution_count": null,
      "outputs": []
    },
    {
      "cell_type": "markdown",
      "metadata": {
        "id": "Fpy9EZ8nTO_Y"
      },
      "source": [
        "**OLD**"
      ]
    },
    {
      "cell_type": "code",
      "metadata": {
        "id": "9HYCdhtK8V2L",
        "outputId": "196a6591-15c0-4d70-ec5f-45a3f36fa3dd",
        "colab": {
          "base_uri": "https://localhost:8080/",
          "height": 67
        }
      },
      "source": [
        "%time result_dot = (tfidf_all_tips_uID_max_ven_).dot(tfidf_other_vID_uID_max_ven_.T)  # -T due to dimensions\n",
        "result_dot.shape"
      ],
      "execution_count": null,
      "outputs": [
        {
          "output_type": "stream",
          "text": [
            "CPU times: user 7.19 ms, sys: 816 µs, total: 8.01 ms\n",
            "Wall time: 7.81 ms\n"
          ],
          "name": "stdout"
        },
        {
          "output_type": "execute_result",
          "data": {
            "text/plain": [
              "(1, 3088)"
            ]
          },
          "metadata": {
            "tags": []
          },
          "execution_count": 183
        }
      ]
    },
    {
      "cell_type": "code",
      "metadata": {
        "id": "bKhqYBlOS3UI"
      },
      "source": [
        "# your code\n",
        "from sklearn.metrics.pairwise import cosine_similarity"
      ],
      "execution_count": null,
      "outputs": []
    },
    {
      "cell_type": "code",
      "metadata": {
        "id": "st5scqnxMc6m",
        "outputId": "d8a8ba15-412b-4e80-acb6-862d778bd5f7",
        "colab": {
          "base_uri": "https://localhost:8080/",
          "height": 67
        }
      },
      "source": [
        "%time cosim = cosine_similarity( tfidf_all_tips_uID_max_ven_ , tfidf_other_vID_uID_max_ven_  )  # ohne .T ?\n",
        "cosim.shape"
      ],
      "execution_count": null,
      "outputs": [
        {
          "output_type": "stream",
          "text": [
            "CPU times: user 7.46 ms, sys: 958 µs, total: 8.42 ms\n",
            "Wall time: 13.3 ms\n"
          ],
          "name": "stdout"
        },
        {
          "output_type": "execute_result",
          "data": {
            "text/plain": [
              "(1, 3088)"
            ]
          },
          "metadata": {
            "tags": []
          },
          "execution_count": 186
        }
      ]
    },
    {
      "cell_type": "code",
      "metadata": {
        "id": "PTr3XZO1L5oJ"
      },
      "source": [
        ""
      ],
      "execution_count": null,
      "outputs": []
    }
  ]
}