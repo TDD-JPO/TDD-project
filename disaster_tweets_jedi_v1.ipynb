{
  "nbformat": 4,
  "nbformat_minor": 0,
  "metadata": {
    "colab": {
      "name": "disaster-tweets-jedi-v1.ipynb",
      "provenance": [],
      "collapsed_sections": [],
      "include_colab_link": true
    },
    "kernelspec": {
      "name": "python3",
      "display_name": "Python 3"
    }
  },
  "cells": [
    {
      "cell_type": "markdown",
      "metadata": {
        "id": "view-in-github",
        "colab_type": "text"
      },
      "source": [
        "<a href=\"https://colab.research.google.com/github/TTD-JPO/TDD-project/blob/jedi/disaster_tweets_jedi_v1.ipynb\" target=\"_parent\"><img src=\"https://colab.research.google.com/assets/colab-badge.svg\" alt=\"Open In Colab\"/></a>"
      ]
    },
    {
      "cell_type": "code",
      "metadata": {
        "id": "gkE3N2AuU6Ex",
        "outputId": "a09fd394-9539-4bc0-879f-1f4edab653d7",
        "colab": {
          "base_uri": "https://localhost:8080/",
          "height": 35
        }
      },
      "source": [
        "from google.colab import drive\n",
        "drive.mount('/content/drive')"
      ],
      "execution_count": 1,
      "outputs": [
        {
          "output_type": "stream",
          "text": [
            "Drive already mounted at /content/drive; to attempt to forcibly remount, call drive.mount(\"/content/drive\", force_remount=True).\n"
          ],
          "name": "stdout"
        }
      ]
    },
    {
      "cell_type": "code",
      "metadata": {
        "id": "62jrF4rfJL0g"
      },
      "source": [
        "import pandas as pd\n",
        "import numpy as np\n",
        "import matplotlib.pyplot as plt\n",
        "import seaborn as sns\n",
        "\n",
        "from datetime import timedelta, time"
      ],
      "execution_count": 2,
      "outputs": []
    },
    {
      "cell_type": "code",
      "metadata": {
        "id": "i2Nfud6cMzXq"
      },
      "source": [
        "from sklearn.pipeline import make_pipeline\n",
        "\n",
        "from sklearn.model_selection import cross_val_score\n",
        "from sklearn.linear_model import LogisticRegression\n",
        "from sklearn.model_selection import train_test_split\n",
        "from sklearn.metrics import accuracy_score, r2_score, plot_confusion_matrix\n",
        "\n",
        "from sklearn.naive_bayes import CategoricalNB, MultinomialNB, BernoulliNB\n",
        "from sklearn.feature_extraction.text import CountVectorizer, TfidfVectorizer\n",
        "\n",
        "#cv = CountVectorizer()\n",
        "#bow_cv = cv.fit_transform(df[\"_lemmatized\"])"
      ],
      "execution_count": 3,
      "outputs": []
    },
    {
      "cell_type": "markdown",
      "metadata": {
        "id": "67TQ0Cq4K9MJ"
      },
      "source": [
        "## definitions "
      ]
    },
    {
      "cell_type": "code",
      "metadata": {
        "id": "SZ84NmUz_Kzt",
        "outputId": "f895f8c1-ba51-445e-b928-b88906eb75d5",
        "colab": {
          "base_uri": "https://localhost:8080/",
          "height": 90
        }
      },
      "source": [
        "import re\n",
        "\n",
        "import nltk\n",
        "nltk.download('stopwords')\n",
        "from nltk.corpus import stopwords\n",
        "from nltk.stem import WordNetLemmatizer\n",
        "nltk.download('wordnet')\n",
        "lemmatizer = WordNetLemmatizer()\n",
        "\n",
        "\n",
        "def clean_text(text):\n",
        "  # get rid of all unwanted punctuation and digits\n",
        "  text = text.replace(\"´\", \"'\")\n",
        "\n",
        "  digi_punct = \"[^a-zA-Z' ]\"\n",
        "  text = re.sub(digi_punct, \" \", text)\n",
        "  text = \" \".join(text.split())\n",
        "  text = text.lower()\n",
        "\n",
        "  return text\n",
        "\n",
        "def my_df_text_mining(df, col):\n",
        "  lemmatizer = WordNetLemmatizer()\n",
        "  my_stopwords = stopwords.words(\"english\")\n",
        "  \n",
        "  df[\"_no_stopwords\"] = df[col].apply(             lambda texxt: \" \".join([word for word in clean_text(texxt).split() if word not in my_stopwords]))\n",
        "  df[col]             = df[\"_no_stopwords\"].apply( lambda texxt: \" \".join([lemmatizer.lemmatize(word) for word in texxt.split()]) )\n",
        "\n",
        "  return df.drop([\"_no_stopwords\"], axis=1)"
      ],
      "execution_count": 4,
      "outputs": [
        {
          "output_type": "stream",
          "text": [
            "[nltk_data] Downloading package stopwords to /root/nltk_data...\n",
            "[nltk_data]   Package stopwords is already up-to-date!\n",
            "[nltk_data] Downloading package wordnet to /root/nltk_data...\n",
            "[nltk_data]   Package wordnet is already up-to-date!\n"
          ],
          "name": "stdout"
        }
      ]
    },
    {
      "cell_type": "markdown",
      "metadata": {
        "id": "xd3b7mrrLFPi"
      },
      "source": [
        "# get data"
      ]
    },
    {
      "cell_type": "markdown",
      "metadata": {
        "id": "ENvKDlwXrXAH"
      },
      "source": [
        "[Daten](https://drive.google.com/file/d/1QPragNh_wYQVsXQvds8sqjDMfzARD638/view?usp=sharing)\n"
      ]
    },
    {
      "cell_type": "code",
      "metadata": {
        "id": "jAUe5gnhWgAG"
      },
      "source": [
        "disaster_tweets = pd.read_csv('/content/drive/My Drive/disaster_tweets.csv', encoding='latin-1')"
      ],
      "execution_count": 5,
      "outputs": []
    },
    {
      "cell_type": "code",
      "metadata": {
        "id": "QZqYCDfCwx93",
        "outputId": "9d3a4758-2f5e-43d8-b017-2c6413c4bb5b",
        "colab": {
          "base_uri": "https://localhost:8080/",
          "height": 0
        }
      },
      "source": [
        "print( \"absolute number of disaster indicated messages:\", disaster_tweets.target.sum() )\n",
        "print( f\"relative number of disaster indicated messages: {disaster_tweets.target.sum() / disaster_tweets.shape[0] :0.3f}\" )"
      ],
      "execution_count": 6,
      "outputs": [
        {
          "output_type": "stream",
          "text": [
            "absolute number of disaster indicated messages: 3271\n",
            "relative number of disaster indicated messages: 0.430\n"
          ],
          "name": "stdout"
        }
      ]
    },
    {
      "cell_type": "markdown",
      "metadata": {
        "id": "SgyABVqhIbS2"
      },
      "source": [
        "# Frage an Petra: wieso 50%  --- ich hab 43% ?"
      ]
    },
    {
      "cell_type": "code",
      "metadata": {
        "id": "nqZJof0Z4D91",
        "outputId": "c7479cb5-66cc-4e0c-aa38-8bd3437ee419",
        "colab": {
          "base_uri": "https://localhost:8080/",
          "height": 0
        }
      },
      "source": [
        "disaster_tweets.loc[[1, 0], :].plot.pie(y='target', autopct=lambda x: round(x, 2));"
      ],
      "execution_count": 7,
      "outputs": [
        {
          "output_type": "display_data",
          "data": {
            "image/png": "[encoded data removed]",
            "text/plain": [
              "<Figure size 432x288 with 1 Axes>"
            ]
          },
          "metadata": {
            "tags": []
          }
        }
      ]
    },
    {
      "cell_type": "code",
      "metadata": {
        "id": "F6uPwdhszFtK"
      },
      "source": [
        "keys      = list(disaster_tweets.keyword.unique() )\n",
        "locations = list(disaster_tweets.location.unique() )"
      ],
      "execution_count": 8,
      "outputs": []
    },
    {
      "cell_type": "code",
      "metadata": {
        "id": "DPVGQ418uYJj",
        "outputId": "082a8220-e4b6-4861-e15f-ea3a8d1d3cae",
        "colab": {
          "base_uri": "https://localhost:8080/",
          "height": 0
        }
      },
      "source": [
        "disaster_tweets.groupby('keyword').target.count().sort_values(ascending=False)\n"
      ],
      "execution_count": 9,
      "outputs": [
        {
          "output_type": "execute_result",
          "data": {
            "text/plain": [
              "keyword\n",
              "fatalities               45\n",
              "deluge                   42\n",
              "armageddon               42\n",
              "body%20bags              41\n",
              "sinking                  41\n",
              "                         ..\n",
              "forest%20fire            19\n",
              "epicentre                12\n",
              "threat                   11\n",
              "inundation               10\n",
              "radiation%20emergency     9\n",
              "Name: target, Length: 221, dtype: int64"
            ]
          },
          "metadata": {
            "tags": []
          },
          "execution_count": 9
        }
      ]
    },
    {
      "cell_type": "code",
      "metadata": {
        "id": "u4fk_EELupKD",
        "outputId": "f8366c3d-5f39-4b42-f36e-d327c071932c",
        "colab": {
          "base_uri": "https://localhost:8080/",
          "height": 0
        }
      },
      "source": [
        "disaster_tweets.groupby('location').target.count().sort_values(ascending=False)"
      ],
      "execution_count": 10,
      "outputs": [
        {
          "output_type": "execute_result",
          "data": {
            "text/plain": [
              "location\n",
              "USA                            104\n",
              "New York                        71\n",
              "United States                   50\n",
              "London                          45\n",
              "Canada                          29\n",
              "                              ... \n",
              "Republica Dominicana             1\n",
              "Republic of the Philippines      1\n",
              "Regalo Island                    1\n",
              "Redondo Beach, CA                1\n",
              "                                 1\n",
              "Name: target, Length: 3341, dtype: int64"
            ]
          },
          "metadata": {
            "tags": []
          },
          "execution_count": 10
        }
      ]
    },
    {
      "cell_type": "code",
      "metadata": {
        "id": "eOgyt3aj5EZV",
        "outputId": "4ca72a20-8637-42fd-cd43-98b15eceba01",
        "colab": {
          "base_uri": "https://localhost:8080/",
          "height": 0
        }
      },
      "source": [
        "display( f\"relative number of keyword   messages: {disaster_tweets.keyword.nunique()  / disaster_tweets.shape[0] :0.3f}\" )\n",
        "display( f\"relative number of location  messages: {disaster_tweets.location.nunique() / disaster_tweets.shape[0] :0.3f}\" )"
      ],
      "execution_count": 11,
      "outputs": [
        {
          "output_type": "display_data",
          "data": {
            "application/vnd.google.colaboratory.intrinsic+json": {
              "type": "string"
            },
            "text/plain": [
              "'relative number of keyword   messages: 0.029'"
            ]
          },
          "metadata": {
            "tags": []
          }
        },
        {
          "output_type": "display_data",
          "data": {
            "application/vnd.google.colaboratory.intrinsic+json": {
              "type": "string"
            },
            "text/plain": [
              "'relative number of location  messages: 0.439'"
            ]
          },
          "metadata": {
            "tags": []
          }
        }
      ]
    },
    {
      "cell_type": "code",
      "metadata": {
        "id": "N3FC1viZFsoY"
      },
      "source": [
        "### we might do these steps later after having processed the text :)\n",
        "#dt = disaster_tweets.copy()"
      ],
      "execution_count": 12,
      "outputs": []
    },
    {
      "cell_type": "markdown",
      "metadata": {
        "id": "twFfnj5aKu9h"
      },
      "source": [
        "# jedi"
      ]
    },
    {
      "cell_type": "code",
      "metadata": {
        "id": "t8MoY936GoQL",
        "outputId": "a0885e45-519f-40cc-8acc-e16cd7c68b69",
        "colab": {
          "base_uri": "https://localhost:8080/",
          "height": 407
        }
      },
      "source": [
        "dt = my_df_text_mining(disaster_tweets.copy(), 'text')\n",
        "dt"
      ],
      "execution_count": 13,
      "outputs": [
        {
          "output_type": "execute_result",
          "data": {
            "text/html": [
              "<div>\n",
              "<style scoped>\n",
              "    .dataframe tbody tr th:only-of-type {\n",
              "        vertical-align: middle;\n",
              "    }\n",
              "\n",
              "    .dataframe tbody tr th {\n",
              "        vertical-align: top;\n",
              "    }\n",
              "\n",
              "    .dataframe thead th {\n",
              "        text-align: right;\n",
              "    }\n",
              "</style>\n",
              "<table border=\"1\" class=\"dataframe\">\n",
              "  <thead>\n",
              "    <tr style=\"text-align: right;\">\n",
              "      <th></th>\n",
              "      <th>id</th>\n",
              "      <th>keyword</th>\n",
              "      <th>location</th>\n",
              "      <th>text</th>\n",
              "      <th>target</th>\n",
              "    </tr>\n",
              "  </thead>\n",
              "  <tbody>\n",
              "    <tr>\n",
              "      <th>0</th>\n",
              "      <td>1</td>\n",
              "      <td>NaN</td>\n",
              "      <td>NaN</td>\n",
              "      <td>deed reason earthquake may allah forgive u</td>\n",
              "      <td>1</td>\n",
              "    </tr>\n",
              "    <tr>\n",
              "      <th>1</th>\n",
              "      <td>4</td>\n",
              "      <td>NaN</td>\n",
              "      <td>NaN</td>\n",
              "      <td>forest fire near la ronge sask canada</td>\n",
              "      <td>1</td>\n",
              "    </tr>\n",
              "    <tr>\n",
              "      <th>2</th>\n",
              "      <td>5</td>\n",
              "      <td>NaN</td>\n",
              "      <td>NaN</td>\n",
              "      <td>resident asked 'shelter place' notified office...</td>\n",
              "      <td>1</td>\n",
              "    </tr>\n",
              "    <tr>\n",
              "      <th>3</th>\n",
              "      <td>6</td>\n",
              "      <td>NaN</td>\n",
              "      <td>NaN</td>\n",
              "      <td>people receive wildfire evacuation order calif...</td>\n",
              "      <td>1</td>\n",
              "    </tr>\n",
              "    <tr>\n",
              "      <th>4</th>\n",
              "      <td>7</td>\n",
              "      <td>NaN</td>\n",
              "      <td>NaN</td>\n",
              "      <td>got sent photo ruby alaska smoke wildfire pour...</td>\n",
              "      <td>1</td>\n",
              "    </tr>\n",
              "    <tr>\n",
              "      <th>...</th>\n",
              "      <td>...</td>\n",
              "      <td>...</td>\n",
              "      <td>...</td>\n",
              "      <td>...</td>\n",
              "      <td>...</td>\n",
              "    </tr>\n",
              "    <tr>\n",
              "      <th>7608</th>\n",
              "      <td>10869</td>\n",
              "      <td>NaN</td>\n",
              "      <td>NaN</td>\n",
              "      <td>two giant crane holding bridge collapse nearby...</td>\n",
              "      <td>1</td>\n",
              "    </tr>\n",
              "    <tr>\n",
              "      <th>7609</th>\n",
              "      <td>10870</td>\n",
              "      <td>NaN</td>\n",
              "      <td>NaN</td>\n",
              "      <td>aria ahrary thetawniest control wild fire cali...</td>\n",
              "      <td>1</td>\n",
              "    </tr>\n",
              "    <tr>\n",
              "      <th>7610</th>\n",
              "      <td>10871</td>\n",
              "      <td>NaN</td>\n",
              "      <td>NaN</td>\n",
              "      <td>utc km volcano hawaii http co zdtoyd ebj</td>\n",
              "      <td>1</td>\n",
              "    </tr>\n",
              "    <tr>\n",
              "      <th>7611</th>\n",
              "      <td>10872</td>\n",
              "      <td>NaN</td>\n",
              "      <td>NaN</td>\n",
              "      <td>police investigating e bike collided car littl...</td>\n",
              "      <td>1</td>\n",
              "    </tr>\n",
              "    <tr>\n",
              "      <th>7612</th>\n",
              "      <td>10873</td>\n",
              "      <td>NaN</td>\n",
              "      <td>NaN</td>\n",
              "      <td>latest home razed northern california wildfire...</td>\n",
              "      <td>1</td>\n",
              "    </tr>\n",
              "  </tbody>\n",
              "</table>\n",
              "<p>7613 rows × 5 columns</p>\n",
              "</div>"
            ],
            "text/plain": [
              "         id keyword  ...                                               text target\n",
              "0         1     NaN  ...         deed reason earthquake may allah forgive u      1\n",
              "1         4     NaN  ...              forest fire near la ronge sask canada      1\n",
              "2         5     NaN  ...  resident asked 'shelter place' notified office...      1\n",
              "3         6     NaN  ...  people receive wildfire evacuation order calif...      1\n",
              "4         7     NaN  ...  got sent photo ruby alaska smoke wildfire pour...      1\n",
              "...     ...     ...  ...                                                ...    ...\n",
              "7608  10869     NaN  ...  two giant crane holding bridge collapse nearby...      1\n",
              "7609  10870     NaN  ...  aria ahrary thetawniest control wild fire cali...      1\n",
              "7610  10871     NaN  ...           utc km volcano hawaii http co zdtoyd ebj      1\n",
              "7611  10872     NaN  ...  police investigating e bike collided car littl...      1\n",
              "7612  10873     NaN  ...  latest home razed northern california wildfire...      1\n",
              "\n",
              "[7613 rows x 5 columns]"
            ]
          },
          "metadata": {
            "tags": []
          },
          "execution_count": 13
        }
      ]
    },
    {
      "cell_type": "markdown",
      "metadata": {
        "id": "C5kqi2gbL3Y2"
      },
      "source": [
        "# kann doch weg :)"
      ]
    },
    {
      "cell_type": "code",
      "metadata": {
        "id": "UWwFaeG5xz63"
      },
      "source": [
        "no_keyword_ = dt[  dt.keyword.isna()]\n",
        "keyword_    = dt[ ~dt.keyword.isna()]"
      ],
      "execution_count": 14,
      "outputs": []
    },
    {
      "cell_type": "code",
      "metadata": {
        "id": "K4aFH74otcdH",
        "outputId": "d36fa4f6-867a-424a-9c28-860cacc8f29c",
        "colab": {
          "base_uri": "https://localhost:8080/",
          "height": 254
        }
      },
      "source": [
        "keyword_.groupby('keyword').target.count()"
      ],
      "execution_count": 15,
      "outputs": [
        {
          "output_type": "execute_result",
          "data": {
            "text/plain": [
              "keyword\n",
              "ablaze                 36\n",
              "accident               35\n",
              "aftershock             34\n",
              "airplane%20accident    35\n",
              "ambulance              38\n",
              "                       ..\n",
              "wounded                37\n",
              "wounds                 33\n",
              "wreck                  37\n",
              "wreckage               39\n",
              "wrecked                39\n",
              "Name: target, Length: 221, dtype: int64"
            ]
          },
          "metadata": {
            "tags": []
          },
          "execution_count": 15
        }
      ]
    },
    {
      "cell_type": "code",
      "metadata": {
        "id": "5-W86hUzCnc6"
      },
      "source": [
        "no_location_ = dt[  dt.location.isna()]\n",
        "location_    = dt[ ~dt.location.isna()]"
      ],
      "execution_count": 16,
      "outputs": []
    },
    {
      "cell_type": "code",
      "metadata": {
        "id": "p1kbJHcwFH7I"
      },
      "source": [
        "no_target_ = dt[ dt.target == 0]\n",
        "target_    = dt[ dt.target == 1]"
      ],
      "execution_count": 17,
      "outputs": []
    },
    {
      "cell_type": "code",
      "metadata": {
        "id": "eafYLGmvCvoK",
        "outputId": "1dea60e0-bf43-40a6-aba6-faedfbe8484d",
        "colab": {
          "base_uri": "https://localhost:8080/",
          "height": 407
        }
      },
      "source": [
        "location_"
      ],
      "execution_count": 18,
      "outputs": [
        {
          "output_type": "execute_result",
          "data": {
            "text/html": [
              "<div>\n",
              "<style scoped>\n",
              "    .dataframe tbody tr th:only-of-type {\n",
              "        vertical-align: middle;\n",
              "    }\n",
              "\n",
              "    .dataframe tbody tr th {\n",
              "        vertical-align: top;\n",
              "    }\n",
              "\n",
              "    .dataframe thead th {\n",
              "        text-align: right;\n",
              "    }\n",
              "</style>\n",
              "<table border=\"1\" class=\"dataframe\">\n",
              "  <thead>\n",
              "    <tr style=\"text-align: right;\">\n",
              "      <th></th>\n",
              "      <th>id</th>\n",
              "      <th>keyword</th>\n",
              "      <th>location</th>\n",
              "      <th>text</th>\n",
              "      <th>target</th>\n",
              "    </tr>\n",
              "  </thead>\n",
              "  <tbody>\n",
              "    <tr>\n",
              "      <th>31</th>\n",
              "      <td>48</td>\n",
              "      <td>ablaze</td>\n",
              "      <td>Birmingham</td>\n",
              "      <td>bbcmtd wholesale market ablaze http co lhyxeohy c</td>\n",
              "      <td>1</td>\n",
              "    </tr>\n",
              "    <tr>\n",
              "      <th>32</th>\n",
              "      <td>49</td>\n",
              "      <td>ablaze</td>\n",
              "      <td>Est. September 2012 - Bristol</td>\n",
              "      <td>always try bring heavy metal rt http co yao e ...</td>\n",
              "      <td>0</td>\n",
              "    </tr>\n",
              "    <tr>\n",
              "      <th>33</th>\n",
              "      <td>50</td>\n",
              "      <td>ablaze</td>\n",
              "      <td>AFRICA</td>\n",
              "      <td>africanbaze breaking news nigeria flag set abl...</td>\n",
              "      <td>1</td>\n",
              "    </tr>\n",
              "    <tr>\n",
              "      <th>34</th>\n",
              "      <td>52</td>\n",
              "      <td>ablaze</td>\n",
              "      <td>Philadelphia, PA</td>\n",
              "      <td>cry set ablaze</td>\n",
              "      <td>0</td>\n",
              "    </tr>\n",
              "    <tr>\n",
              "      <th>35</th>\n",
              "      <td>53</td>\n",
              "      <td>ablaze</td>\n",
              "      <td>London, UK</td>\n",
              "      <td>plus side look sky last night ablaze http co q...</td>\n",
              "      <td>0</td>\n",
              "    </tr>\n",
              "    <tr>\n",
              "      <th>...</th>\n",
              "      <td>...</td>\n",
              "      <td>...</td>\n",
              "      <td>...</td>\n",
              "      <td>...</td>\n",
              "      <td>...</td>\n",
              "    </tr>\n",
              "    <tr>\n",
              "      <th>7575</th>\n",
              "      <td>10826</td>\n",
              "      <td>wrecked</td>\n",
              "      <td>TN</td>\n",
              "      <td>bright side wrecked http co uea txrhys</td>\n",
              "      <td>0</td>\n",
              "    </tr>\n",
              "    <tr>\n",
              "      <th>7577</th>\n",
              "      <td>10829</td>\n",
              "      <td>wrecked</td>\n",
              "      <td>#NewcastleuponTyne #UK</td>\n",
              "      <td>widda he's gone relax thought wife wrecked cak...</td>\n",
              "      <td>0</td>\n",
              "    </tr>\n",
              "    <tr>\n",
              "      <th>7579</th>\n",
              "      <td>10831</td>\n",
              "      <td>wrecked</td>\n",
              "      <td>Vancouver, Canada</td>\n",
              "      <td>three day work they've pretty much wrecked hah...</td>\n",
              "      <td>0</td>\n",
              "    </tr>\n",
              "    <tr>\n",
              "      <th>7580</th>\n",
              "      <td>10832</td>\n",
              "      <td>wrecked</td>\n",
              "      <td>London</td>\n",
              "      <td>fx forex trading cramer iger's word wrecked di...</td>\n",
              "      <td>0</td>\n",
              "    </tr>\n",
              "    <tr>\n",
              "      <th>7581</th>\n",
              "      <td>10833</td>\n",
              "      <td>wrecked</td>\n",
              "      <td>Lincoln</td>\n",
              "      <td>engineshed great atmosphere british lion gig t...</td>\n",
              "      <td>0</td>\n",
              "    </tr>\n",
              "  </tbody>\n",
              "</table>\n",
              "<p>5080 rows × 5 columns</p>\n",
              "</div>"
            ],
            "text/plain": [
              "         id  keyword  ...                                               text target\n",
              "31       48   ablaze  ...  bbcmtd wholesale market ablaze http co lhyxeohy c      1\n",
              "32       49   ablaze  ...  always try bring heavy metal rt http co yao e ...      0\n",
              "33       50   ablaze  ...  africanbaze breaking news nigeria flag set abl...      1\n",
              "34       52   ablaze  ...                                     cry set ablaze      0\n",
              "35       53   ablaze  ...  plus side look sky last night ablaze http co q...      0\n",
              "...     ...      ...  ...                                                ...    ...\n",
              "7575  10826  wrecked  ...             bright side wrecked http co uea txrhys      0\n",
              "7577  10829  wrecked  ...  widda he's gone relax thought wife wrecked cak...      0\n",
              "7579  10831  wrecked  ...  three day work they've pretty much wrecked hah...      0\n",
              "7580  10832  wrecked  ...  fx forex trading cramer iger's word wrecked di...      0\n",
              "7581  10833  wrecked  ...  engineshed great atmosphere british lion gig t...      0\n",
              "\n",
              "[5080 rows x 5 columns]"
            ]
          },
          "metadata": {
            "tags": []
          },
          "execution_count": 18
        }
      ]
    },
    {
      "cell_type": "markdown",
      "metadata": {
        "id": "JTZqJ5EGL8Gi"
      },
      "source": [
        "# bis hier :)"
      ]
    },
    {
      "cell_type": "code",
      "metadata": {
        "id": "enJEN9dXNisk"
      },
      "source": [
        "df= dt\n",
        "#no_df = location_"
      ],
      "execution_count": 33,
      "outputs": []
    },
    {
      "cell_type": "code",
      "metadata": {
        "id": "pEI2ebP28czf"
      },
      "source": [
        "#tfidf_v = TfidfVectorizer(ngram_range=(1, 2))\n",
        "#tfidf_bow = tfidf_v.fit_transform(df[\"_lemmatized\"])   # FIT and transform to learn\n",
        "### ??? wo wird das denn weiterverwendet ???"
      ],
      "execution_count": 20,
      "outputs": []
    },
    {
      "cell_type": "code",
      "metadata": {
        "id": "w8XyRQHUTIJM"
      },
      "source": [
        "#tfidf_v.transform(no_df['_lemmatized'])  # only transformation!!!"
      ],
      "execution_count": 21,
      "outputs": []
    },
    {
      "cell_type": "code",
      "metadata": {
        "id": "AXbhHIURMtcH"
      },
      "source": [
        "X_train, X_test,\\\n",
        "y_train, y_test =\\\n",
        " train_test_split(df[\"text\"],\n",
        "                  df[\"target\"],\n",
        "                  test_size=0.2,\n",
        "                  random_state=314159,\n",
        "                  stratify=df[\"target\"])"
      ],
      "execution_count": 22,
      "outputs": []
    },
    {
      "cell_type": "code",
      "metadata": {
        "id": "VrlKAPzNxz0F",
        "outputId": "d00f522b-6a7c-4169-adb3-dee62db28e0b",
        "colab": {
          "base_uri": "https://localhost:8080/",
          "height": 313
        }
      },
      "source": [
        "#### naive bayes \n",
        "pipeMNB = make_pipeline(TfidfVectorizer(ngram_range=(1, 2)), MultinomialNB())\n",
        "\n",
        "display( cross_val_score(pipeMNB, X_train, y_train).mean() )\n",
        "\n",
        "pipeMNB.fit(X_train, y_train)\n",
        "\n",
        "plot_confusion_matrix(pipeMNB, X_test, y_test, values_format=\"0.3f\", normalize='true', cmap=\"RdYlGn\")\n",
        "plt.title(f\"best accuracy: { accuracy_score(y_test, pipeMNB.predict(X_test)):0.3f}\")\n",
        "plt.show()"
      ],
      "execution_count": 23,
      "outputs": [
        {
          "output_type": "display_data",
          "data": {
            "text/plain": [
              "0.7949096880131362"
            ]
          },
          "metadata": {
            "tags": []
          }
        },
        {
          "output_type": "display_data",
          "data": {
            "image/png": "[encoded data removed]",
            "text/plain": [
              "<Figure size 432x288 with 2 Axes>"
            ]
          },
          "metadata": {
            "tags": [],
            "needs_background": "light"
          }
        }
      ]
    },
    {
      "cell_type": "code",
      "metadata": {
        "id": "19DTeMZN3z2D",
        "outputId": "345348f1-03a0-4f58-9217-f174c674362b",
        "colab": {
          "base_uri": "https://localhost:8080/",
          "height": 313
        }
      },
      "source": [
        "\n",
        "df=disaster_tweets\n",
        "\n",
        "X_train, X_test,\\\n",
        "y_train, y_test =\\\n",
        " train_test_split(df[\"text\"],\n",
        "                  df[\"target\"],\n",
        "                  test_size=0.2,\n",
        "                  random_state=314159,\n",
        "                  stratify=df[\"target\"])\n",
        "\n",
        "\n",
        "#### naive bayes \n",
        "pipeMNB = make_pipeline(TfidfVectorizer(ngram_range=(1, 2)), MultinomialNB())\n",
        "\n",
        "display( cross_val_score(pipeMNB, X_train, y_train).mean() )\n",
        "\n",
        "pipeMNB.fit(X_train, y_train)\n",
        "\n",
        "plot_confusion_matrix(pipeMNB, X_test, y_test, values_format=\"0.3f\", normalize='true', cmap=\"RdYlGn\")\n",
        "plt.title(f\"best accuracy: { accuracy_score(y_test, pipeMNB.predict(X_test)):0.3f}\")\n",
        "plt.show()"
      ],
      "execution_count": 34,
      "outputs": [
        {
          "output_type": "display_data",
          "data": {
            "text/plain": [
              "0.7888341543513958"
            ]
          },
          "metadata": {
            "tags": []
          }
        },
        {
          "output_type": "display_data",
          "data": {
            "image/png": "[encoded data removed]",
            "text/plain": [
              "<Figure size 432x288 with 2 Axes>"
            ]
          },
          "metadata": {
            "tags": [],
            "needs_background": "light"
          }
        }
      ]
    },
    {
      "cell_type": "code",
      "metadata": {
        "id": "jlNxoCyM3zpS"
      },
      "source": [
        ""
      ],
      "execution_count": 24,
      "outputs": []
    },
    {
      "cell_type": "code",
      "metadata": {
        "id": "PTr3XZO1L5oJ"
      },
      "source": [
        ""
      ],
      "execution_count": 24,
      "outputs": []
    }
  ]
}